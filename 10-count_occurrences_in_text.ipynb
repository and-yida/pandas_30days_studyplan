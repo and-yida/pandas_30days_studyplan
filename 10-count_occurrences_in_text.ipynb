{
 "cells": [
  {
   "cell_type": "markdown",
   "metadata": {},
   "source": [
    "### Count Occurrences in Text"
   ]
  },
  {
   "cell_type": "code",
   "execution_count": null,
   "metadata": {
    "vscode": {
     "languageId": "plaintext"
    }
   },
   "outputs": [],
   "source": [
    "'''\n",
    "Table: Files\n",
    "+-------------+---------+\n",
    "| Column Name | Type    |\n",
    "+-- ----------+---------+\n",
    "| file_name   | varchar |\n",
    "| content     | text    |\n",
    "+-------------+---------+\n",
    "file_name is the column with unique values of this table. \n",
    "Each row contains file_name and the content of that file.\n",
    "Write a solution to find the number of files that have at least one occurrence of the words ‘bull’ and ‘bear’ as a standalone word, respectively, disregarding any instances where it appears without space on either side (e.g. ‘bullet’, ‘bears’, ‘bull.’, or ‘bear’ at the beginning or end of a sentence will not be considered). Return the word ‘bull’ and ‘bear’ along with the corresponding number of occurrences in any order. The result format is in the following example.\n",
    "\n",
    "Input: \n",
    "Files table:\n",
    "+------------+----------------------------------------------------------------------------------+\n",
    "| file_name  | content                                                                         | \n",
    "+------------+----------------------------------------------------------------------------------+\n",
    "| draft1.txt | The stock exchange predicts a bull market which would make many investors happy. | \n",
    "| draft2.txt | The stock exchange predicts a bull market which would make many investors happy, |\n",
    "|            | but analysts warn of possibility of too much optimism and that in fact we are    |\n",
    "|            | awaiting a bear market.                                                          | \n",
    "| draft3.txt | The stock exchange predicts a bull market which would make many investors happy, |\n",
    "|            | but analysts warn of possibility of too much optimism and that in fact we are    |\n",
    "|            | awaiting a bear market. As always predicting the future market is an uncertain   |\n",
    "|            | game and all investors should follow their instincts and best practices.         | \n",
    "+------------+----------------------------------------------------------------------------------+\n",
    "Output: \n",
    "+------+-------+\n",
    "| word | count |  \n",
    "+------+-------+\n",
    "| bull | 3     | \n",
    "| bear | 2     | \n",
    "+------+-------+\n",
    "Explanation: \n",
    "- The word \"bull\" appears 1 time in \"draft1.txt\", 1 time in \"draft2.txt\", and 1 time in \"draft3.txt\". Therefore, the total number of occurrences for the word \"bull\" is 3.\n",
    "- The word \"bear\" appears 1 time in \"draft2.txt\", and 1 time in \"draft3.txt\". Therefore, the total number of occurrences for the word \"bear\" is 2.\n",
    "\n",
    "\n",
    "*Source: https://leetcode.com/studyplan/30-days-of-pandas/\n",
    "'''"
   ]
  },
  {
   "cell_type": "code",
   "execution_count": null,
   "metadata": {
    "vscode": {
     "languageId": "plaintext"
    }
   },
   "outputs": [],
   "source": [
    "import pandas as pd\n",
    "\n",
    "    def count_occurrences(files: pd.DataFrame) -> pd.DataFrame:\n",
    "        bull_count = files['content'].str.contains(r'\\s+bull\\s+', case=False).sum()\n",
    "        bear_count = files['content'].str.contains(r'\\s+bear\\s+', case=False).sum()\n",
    "        df = pd.DataFrame({'word': ['bull', 'bear], 'count': [bull_count, bear_count]})\n",
    "        return df\n",
    "    "
   ]
  },
  {
   "cell_type": "code",
   "execution_count": null,
   "metadata": {
    "vscode": {
     "languageId": "plaintext"
    }
   },
   "outputs": [],
   "source": [
    "# We are counting the number of files that contains at least one occurrence of the word."
   ]
  }
 ],
 "metadata": {
  "language_info": {
   "name": "python"
  }
 },
 "nbformat": 4,
 "nbformat_minor": 2
}
