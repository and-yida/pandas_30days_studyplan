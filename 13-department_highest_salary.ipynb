{
 "cells": [
  {
   "cell_type": "markdown",
   "metadata": {},
   "source": [
    "### Department Highest Salary"
   ]
  },
  {
   "cell_type": "code",
   "execution_count": null,
   "metadata": {
    "vscode": {
     "languageId": "plaintext"
    }
   },
   "outputs": [],
   "source": [
    "'''\n",
    "Table: Employee\n",
    "\n",
    "+--------------+---------+\n",
    "| Column Name  | Type    |\n",
    "+--------------+---------+\n",
    "| id           | int     |\n",
    "| name         | varchar |\n",
    "| salary       | int     |\n",
    "| departmentId | int     |\n",
    "+--------------+---------+\n",
    "id is the primary key (column with unique values) for this table.\n",
    "departmentId is a foreign key (reference columns) of the ID from the Department table.\n",
    "Each row of this table indicates the ID, name, and salary of an employee. It also contains the ID of their department.\n",
    " \n",
    "\n",
    "Table: Department\n",
    "\n",
    "+-------------+---------+\n",
    "| Column Name | Type    |\n",
    "+-------------+---------+\n",
    "| id          | int     |\n",
    "| name        | varchar |\n",
    "+-------------+---------+\n",
    "id is the primary key (column with unique values) for this table. It is guaranteed that department name is not NULL.\n",
    "Each row of this table indicates the ID of a department and its name.\n",
    " \n",
    "\n",
    "Write a solution to find employees who have the highest salary in each of the departments.\n",
    "\n",
    "Return the result table in any order.\n",
    "\n",
    "The result format is in the following example.\n",
    "\n",
    " \n",
    "\n",
    "Example 1:\n",
    "\n",
    "Input: \n",
    "Employee table:\n",
    "+----+-------+--------+--------------+\n",
    "| id | name  | salary | departmentId |\n",
    "+----+-------+--------+--------------+\n",
    "| 1  | Joe   | 70000  | 1            |\n",
    "| 2  | Jim   | 90000  | 1            |\n",
    "| 3  | Henry | 80000  | 2            |\n",
    "| 4  | Sam   | 60000  | 2            |\n",
    "| 5  | Max   | 90000  | 1            |\n",
    "+----+-------+--------+--------------+\n",
    "Department table:\n",
    "+----+-------+\n",
    "| id | name  |\n",
    "+----+-------+\n",
    "| 1  | IT    |\n",
    "| 2  | Sales |\n",
    "+----+-------+\n",
    "Output: \n",
    "+------------+----------+--------+\n",
    "| Department | Employee | Salary |\n",
    "+------------+----------+--------+\n",
    "| IT         | Jim      | 90000  |\n",
    "| Sales      | Henry    | 80000  |\n",
    "| IT         | Max      | 90000  |\n",
    "+------------+----------+--------+\n",
    "Explanation: Max and Jim both have the highest salary in the IT department and Henry has the highest salary in the Sales department.\n",
    "\n",
    "\n",
    "*Source: https://leetcode.com/studyplan/30-days-of-pandas/\n",
    "'''"
   ]
  },
  {
   "cell_type": "code",
   "execution_count": null,
   "metadata": {
    "vscode": {
     "languageId": "plaintext"
    }
   },
   "outputs": [],
   "source": [
    "import pandas as pd\n",
    "\n",
    "def department_highest_salary(employee: pd.DataFrame, department: pd.DataFrame) -> pd.DataFrame:\n",
    "    highest_salary_per_department = employee.merge(employee.groupby('departmentId', as_index=False)['salary'].max(), on=['departmentId', 'salary'])\n",
    "    # Cross-referencing 'departmentId' information and 'id' from department table \n",
    "    highest_salary_per_department = highest_salary_per_department.merge(department, left_on='departmentId', right_on='id', how='left')\n",
    "    # Reordering and renaming\n",
    "    df = highest_salary_per_department[['name_y', 'name_x', 'salary']]\n",
    "    df.rename(columns={'name_y': 'Department', 'name_x': 'Employee', 'salary': 'Salary'}, inplace=True)\n",
    "    return df"
   ]
  },
  {
   "cell_type": "code",
   "execution_count": null,
   "metadata": {
    "vscode": {
     "languageId": "plaintext"
    }
   },
   "outputs": [],
   "source": [
    "# employee.groupby('departmentId', as_index=False)['salary'].max()\n",
    "    returns a DF with the highest salaries per department, containing 'departmentId' e 'salary'\n",
    "# employee.merge\n",
    "    'merge' joins the original 'employee' DF and the DF resulting from the filtering\n",
    "# on=['departmentId', 'salary']\n",
    "    'on' indicates the columns 'merge should use to combine the two DFs\n",
    "# Pandas adds \"_x\" to reference data from the left table, and \"_y\" to the right table, in the case of columns with the same name in both.\n",
    "# The second 'merge' joins 'department', indicating 'departmentId' and 'id' as the equivalent columns used to combine de two DFs."
   ]
  },
  {
   "cell_type": "code",
   "execution_count": null,
   "metadata": {
    "vscode": {
     "languageId": "plaintext"
    }
   },
   "outputs": [],
   "source": [
    "def department_highest_salary_resumed(employee: pd.DataFrame, department: pd.DataFrame) -> pd.DataFrame:\n",
    "    merged = employee.merge(department , left_on = 'departmentId' , right_on = 'id')\n",
    "    rt = merged[merged['salary'] == merged.groupby('name_y')['salary'].transform(max)]\n",
    "    rt = rt[['name_y' , 'name_x' , 'salary']].rename(columns = {'name_y' : 'Department' , 'name_x': 'Employee' , 'salary' : 'Salary'})\n",
    "    return rt"
   ]
  },
  {
   "cell_type": "code",
   "execution_count": null,
   "metadata": {
    "vscode": {
     "languageId": "plaintext"
    }
   },
   "outputs": [],
   "source": [
    "# merged.groupby('name_y')['salary'].transform(max)\n",
    "    It creates a column with the highest salary in the department of the given employee\n",
    "# In the second line, only the employees with the given highest salary are returned."
   ]
  },
  {
   "cell_type": "code",
   "execution_count": null,
   "metadata": {
    "vscode": {
     "languageId": "plaintext"
    }
   },
   "outputs": [],
   "source": []
  }
 ],
 "metadata": {
  "language_info": {
   "name": "python"
  }
 },
 "nbformat": 4,
 "nbformat_minor": 2
}
