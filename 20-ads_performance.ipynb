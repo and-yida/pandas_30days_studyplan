{
 "cells": [
  {
   "cell_type": "markdown",
   "metadata": {},
   "source": [
    "### Ads Performance"
   ]
  },
  {
   "cell_type": "code",
   "execution_count": null,
   "metadata": {
    "vscode": {
     "languageId": "plaintext"
    }
   },
   "outputs": [],
   "source": [
    "'''\n",
    "Table: Ads\n",
    "+---------------+---------+\n",
    "| Column Name   | Type    |\n",
    "+---------------+---------+\n",
    "| ad_id         | int     |\n",
    "| user_id       | int     |\n",
    "| action        | enum    |\n",
    "+---------------+---------+\n",
    "(ad_id, user_id) is the primary key (combination of columns with unique values) for this table.\n",
    "Each row of this table contains the ID of an Ad, the ID of a user, and the action taken by this user regarding this Ad.\n",
    "The action column is an ENUM (category) type of ('Clicked', 'Viewed', 'Ignored').\n",
    "A company is running Ads and wants to calculate the performance of each Ad. Performance of the Ad is measured using Click-Through Rate (CTR) where:\n",
    "- CTR = 0 } if Ad total clicks + Ad total views = 0\n",
    "- CTR = (Ad total clicks / Ad total clicks + Ad total views) * 100 } otherwise\n",
    "\n",
    "Write a solution to find the ctr of each Ad. Round ctr to two decimal points. Return the result table ordered by ctr in descending order and ad_id in ascending order in case of a tie. The result format is in the following example.\n",
    "\n",
    "Input: \n",
    "Ads table:\n",
    "+-------+---------+---------+\n",
    "| ad_id | user_id | action  |\n",
    "+-------+---------+---------+\n",
    "| 1     | 1       | Clicked |\n",
    "| 2     | 2       | Clicked |\n",
    "| 3     | 3       | Viewed  |\n",
    "| 5     | 5       | Ignored |\n",
    "| 1     | 7       | Ignored |\n",
    "| 2     | 7       | Viewed  |\n",
    "| 3     | 5       | Clicked |\n",
    "| 1     | 4       | Viewed  |\n",
    "| 2     | 11      | Viewed  |\n",
    "| 1     | 2       | Clicked |\n",
    "+-------+---------+---------+\n",
    "Output: \n",
    "+-------+-------+\n",
    "| ad_id | ctr   |\n",
    "+-------+-------+\n",
    "| 1     | 66.67 |\n",
    "| 3     | 50.00 |\n",
    "| 2     | 33.33 |\n",
    "| 5     | 0.00  |\n",
    "+-------+-------+\n",
    "Explanation: \n",
    "for ad_id = 1, ctr = (2/(2+1)) * 100 = 66.67\n",
    "for ad_id = 2, ctr = (1/(1+2)) * 100 = 33.33\n",
    "for ad_id = 3, ctr = (1/(1+1)) * 100 = 50.00\n",
    "for ad_id = 5, ctr = 0.00, Note that ad_id = 5 has no clicks or views.\n",
    "Note that we do not care about Ignored Ads.\n",
    "\n",
    "\n",
    "*Source: https://leetcode.com/studyplan/30-days-of-pandas/\n",
    "'''"
   ]
  },
  {
   "cell_type": "code",
   "execution_count": null,
   "metadata": {
    "vscode": {
     "languageId": "plaintext"
    }
   },
   "outputs": [],
   "source": [
    "import pandas as pd\n",
    "\n",
    "def ads_performance(ads: pd.DataFrame) -> pd.DataFrame:\n",
    "    # Group by 'ad_id' and calculate the CTR for each group\n",
    "    df = ads.groupby('ad_id')['action'].apply(\n",
    "        lambda x: round((sum(x == 'Clicked') / (sum(x == 'Clicked') + sum(x == 'Viewed')) * 100) if (sum(x == 'Clicked') + sum(x == 'Viewed')) > 0 else 0.00, 2)\n",
    "    ).reset_index()\n",
    "    df.columns = ['ad_id', 'ctr'] # rename the column to 'ctr'\n",
    "    result = df.sort_values(by=['ctr', 'ad_id'], ascending=[False, True])\n",
    "\n",
    "    return result"
   ]
  }
 ],
 "metadata": {
  "language_info": {
   "name": "python"
  }
 },
 "nbformat": 4,
 "nbformat_minor": 2
}
