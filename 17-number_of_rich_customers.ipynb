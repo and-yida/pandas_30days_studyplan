{
 "cells": [
  {
   "cell_type": "markdown",
   "metadata": {},
   "source": [
    "### The Number of Rich Customers"
   ]
  },
  {
   "cell_type": "code",
   "execution_count": null,
   "metadata": {
    "vscode": {
     "languageId": "plaintext"
    }
   },
   "outputs": [],
   "source": [
    "'''\n",
    "Table: Store\n",
    "+-------------+------+\n",
    "| Column Name | Type |\n",
    "+-------------+------+\n",
    "| bill_id     | int  |\n",
    "| customer_id | int  |\n",
    "| amount      | int  |\n",
    "+-------------+------+\n",
    "bill_id is the primary key (column with unique values) for this table.\n",
    "Each row contains information about the amount of one bill and the customer associated with it.\n",
    "Write a solution to report the number of customers who had at least one bill with an amount strictly greater than 500. The result format is in the following example.\n",
    "\n",
    "Input: \n",
    "Store table:\n",
    "+---------+-------------+--------+\n",
    "| bill_id | customer_id | amount |\n",
    "+---------+-------------+--------+\n",
    "| 6       | 1           | 549    |\n",
    "| 8       | 1           | 834    |\n",
    "| 4       | 2           | 394    |\n",
    "| 11      | 3           | 657    |\n",
    "| 13      | 3           | 257    |\n",
    "+---------+-------------+--------+\n",
    "Output: \n",
    "+------------+\n",
    "| rich_count |\n",
    "+------------+\n",
    "| 2          |\n",
    "+------------+\n",
    "Explanation: \n",
    "Customer 1 has two bills with amounts strictly greater than 500.\n",
    "Customer 2 does not have any bills with an amount strictly greater than 500.\n",
    "Customer 3 has one bill with an amount strictly greater than 500.\n",
    "\n",
    "\n",
    "*Source: https://leetcode.com/studyplan/30-days-of-pandas/\n",
    "'''"
   ]
  },
  {
   "cell_type": "code",
   "execution_count": null,
   "metadata": {
    "vscode": {
     "languageId": "plaintext"
    }
   },
   "outputs": [],
   "source": [
    "import pandas as pd\n",
    "\n",
    "def count_rich_customers(store: pd.DataFrame) -> pd.DataFrame:\n",
    "    count = store[store['amount'] > 500]['customer_id'].nunique() # 'nunique' counts the number of unique values ​​in 'customer_id'\n",
    "    return pd.DataFrame({'rich_count': [count]})"
   ]
  }
 ],
 "metadata": {
  "language_info": {
   "name": "python"
  }
 },
 "nbformat": 4,
 "nbformat_minor": 2
}
