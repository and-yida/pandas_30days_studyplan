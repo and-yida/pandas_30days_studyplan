{
 "cells": [
  {
   "cell_type": "markdown",
   "metadata": {},
   "source": [
    "### Find Users With Valid Email"
   ]
  },
  {
   "cell_type": "code",
   "execution_count": null,
   "metadata": {
    "vscode": {
     "languageId": "plaintext"
    }
   },
   "outputs": [],
   "source": [
    "'''\n",
    "Table: Users\n",
    "\n",
    "+---------------+---------+\n",
    "| Column Name   | Type    |\n",
    "+---------------+---------+\n",
    "| user_id       | int     |\n",
    "| name          | varchar |\n",
    "| mail          | varchar |\n",
    "+---------------+---------+\n",
    "user_id is the primary key (column with unique values) for this table.\n",
    "This table contains information of the users signed up in a website. Some e-mails are invalid.\n",
    " \n",
    "\n",
    "Write a solution to find the users who have valid emails.\n",
    "\n",
    "A valid e-mail has a prefix name and a domain where:\n",
    "\n",
    "The prefix name is a string that may contain letters (upper or lower case), digits, underscore '_', period '.', and/or dash '-'. The prefix name must start with a letter.\n",
    "The domain is '@leetcode.com'.\n",
    "Return the result table in any order.\n",
    "\n",
    "The result format is in the following example.\n",
    "\n",
    "\n",
    "Example 1:\n",
    "\n",
    "Input: \n",
    "Users table:\n",
    "+---------+-----------+-------------------------+\n",
    "| user_id | name      | mail                    |\n",
    "+---------+-----------+-------------------------+\n",
    "| 1       | Winston   | winston@leetcode.com    |\n",
    "| 2       | Jonathan  | jonathanisgreat         |\n",
    "| 3       | Annabelle | bella-@leetcode.com     |\n",
    "| 4       | Sally     | sally.come@leetcode.com |\n",
    "| 5       | Marwan    | quarz#2020@leetcode.com |\n",
    "| 6       | David     | david69@gmail.com       |\n",
    "| 7       | Shapiro   | .shapo@leetcode.com     |\n",
    "+---------+-----------+-------------------------+\n",
    "Output: \n",
    "+---------+-----------+-------------------------+\n",
    "| user_id | name      | mail                    |\n",
    "+---------+-----------+-------------------------+\n",
    "| 1       | Winston   | winston@leetcode.com    |\n",
    "| 3       | Annabelle | bella-@leetcode.com     |\n",
    "| 4       | Sally     | sally.come@leetcode.com |\n",
    "+---------+-----------+-------------------------+\n",
    "Explanation: \n",
    "The mail of user 2 does not have a domain.\n",
    "The mail of user 5 has the # sign which is not allowed.\n",
    "The mail of user 6 does not have the leetcode domain.\n",
    "The mail of user 7 starts with a period.\n",
    "\n",
    "\n",
    "*Source: https://leetcode.com/studyplan/30-days-of-pandas/\n",
    "'''"
   ]
  },
  {
   "cell_type": "code",
   "execution_count": null,
   "metadata": {
    "vscode": {
     "languageId": "plaintext"
    }
   },
   "outputs": [],
   "source": [
    "import pandas as pd\n",
    "\n",
    "def valid_emails(users: pd.DataFrame) -> pd.DataFrame:\n",
    "    # Regex: - r'^[a-zA-Z]' : fist character is a letter\n",
    "    #        - r'[a-zA-Z0-9_.-] : valids characters: a-z A-Z (letters), 0-9 (numbers) and _.- (special characters)\n",
    "    #        - pattern has valid characters +@leetcode.com\n",
    "    df= users[(users['mail'].str.contains(r'^[a-zA-Z]', regex=True)) & \n",
    "        (users['mail'].str.endswith('@leetcode.com')) &\n",
    "        (users['mail'].str.fullmatch(r'[a-zA-Z0-9_.-]+@leetcode.com'))]\n",
    "    return df"
   ]
  }
 ],
 "metadata": {
  "language_info": {
   "name": "python"
  }
 },
 "nbformat": 4,
 "nbformat_minor": 2
}
